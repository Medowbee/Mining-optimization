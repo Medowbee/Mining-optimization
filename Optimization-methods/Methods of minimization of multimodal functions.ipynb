{
 "cells": [
  {
   "cell_type": "markdown",
   "id": "f40329ec",
   "metadata": {},
   "source": [
    "# Methods of minimization of multimodal functions"
   ]
  },
  {
   "cell_type": "code",
   "execution_count": 1,
   "id": "6faf9d09",
   "metadata": {},
   "outputs": [],
   "source": [
    "import numpy as np\n",
    "import math\n",
    "import matplotlib.pyplot as plt"
   ]
  },
  {
   "cell_type": "code",
   "execution_count": 82,
   "id": "3d6c16ef",
   "metadata": {},
   "outputs": [],
   "source": [
    "def MultimodalBruteForce(f, a, b, n):\n",
    "    x = np.arange(a, b, 0.01)\n",
    "    y = f(x)\n",
    "    \n",
    "    count_calculate = 0\n",
    "    count_iteration = 0\n",
    "    \n",
    "    xmin = a\n",
    "    fmin = f(a)  \n",
    "    count_calculate += 1\n",
    "    count_iteration += 1\n",
    "    \n",
    "    for i in range(1, n + 1):\n",
    "        count_calculate += 1\n",
    "        if(f(a + i * (b - a) / n) < fmin):\n",
    "            count_iteration += 1 \n",
    "            xmin = a + i * (b - a) / n\n",
    "            fmin = f(a + i * (b - a) / n)\n",
    "    \n",
    "    print(\"Понадобилось вычислений: \" + str(count_calculate))\n",
    "    print(\"Метод сошелся за: \" + str(count_iteration))\n",
    "    plt.plot(x,y)\n",
    "    plt.plot(xmin, fmin, 'o')\n",
    "    return xmin, fmin"
   ]
  },
  {
   "cell_type": "code",
   "execution_count": 87,
   "id": "3d079ba6",
   "metadata": {},
   "outputs": [],
   "source": [
    "def PolylineMethod(f, L, a, b, delta):\n",
    "    count_calculate = 2\n",
    "    count_iteration = 0\n",
    "    x = np.arange(a, b, 0.01)\n",
    "    y = f(x)\n",
    "    fa = f(a)\n",
    "    fb = f(b)\n",
    "    x0 = (fa - fb + L * (a + b)) / (2.0 * L)\n",
    "    y0 = (fa + fb + L * (a - b)) / 2.0\n",
    "    arrx = np.array([x0])\n",
    "    arry = np.array([y0])\n",
    "    while (True):\n",
    "        count_iteration += 1\n",
    "        fx = arry.min()\n",
    "        minidx = arry.argmin()\n",
    "        fx = f(arrx[minidx]) \n",
    "        count_calculate += 1\n",
    "        px = arry[minidx]\n",
    "        d = (fx - px) / (2.0 * L)\n",
    " \n",
    "        if (2 * L * d <= delta):\n",
    "            fmin = fx\n",
    "            xmin = arrx[minidx]\n",
    "            print(\"Понадобилось вычислений: \" + str(count_calculate))\n",
    "            print(\"Метод сошелся за: \" + str(count_iteration))\n",
    "            plt.plot(x,y)\n",
    "            plt.plot(xmin, fmin, 'o')\n",
    "            return xmin, fmin\n",
    " \n",
    "        min_x1 = arrx[minidx] - d\n",
    "        min_x2 = arrx[minidx] + d\n",
    "        min_y = (fx + px) / 2.0\n",
    " \n",
    "        arrx[minidx] = min_x1\n",
    "        arry[minidx] = min_y\n",
    " \n",
    "        arrx = np.append(arrx, min_x2)\n",
    "        arry = np.append(arry, min_y)\n"
   ]
  },
  {
   "cell_type": "code",
   "execution_count": 88,
   "id": "36cecb3b",
   "metadata": {},
   "outputs": [
    {
     "name": "stdout",
     "output_type": "stream",
     "text": [
      "Понадобилось вычислений: 812\n",
      "Метод сошелся за: 810\n"
     ]
    },
    {
     "data": {
      "text/plain": [
       "(2.458937108272528, -0.12832492424190162)"
      ]
     },
     "execution_count": 88,
     "metadata": {},
     "output_type": "execute_result"
    },
    {
     "data": {
      "image/png": "[encoded data removed]",
      "text/plain": [
       "<Figure size 432x288 with 1 Axes>"
      ]
     },
     "metadata": {
      "needs_background": "light"
     },
     "output_type": "display_data"
    }
   ],
   "source": [
    "PolylineMethod(lambda x: np.cos(x) / x ** 2, 3, 1, 12, 0.001)"
   ]
  },
  {
   "cell_type": "code",
   "execution_count": 90,
   "id": "4abebfb3",
   "metadata": {},
   "outputs": [
    {
     "name": "stdout",
     "output_type": "stream",
     "text": [
      "Понадобилось вычислений: 1001\n",
      "Метод сошелся за: 134\n"
     ]
    },
    {
     "data": {
      "text/plain": [
       "(2.463, -0.1283233641119571)"
      ]
     },
     "execution_count": 90,
     "metadata": {},
     "output_type": "execute_result"
    },
    {
     "data": {
      "image/png": "[encoded data removed]",
      "text/plain": [
       "<Figure size 432x288 with 1 Axes>"
      ]
     },
     "metadata": {
      "needs_background": "light"
     },
     "output_type": "display_data"
    }
   ],
   "source": [
    "MultimodalBruteForce(lambda x: np.cos(x) / x ** 2, 1, 12, 1000)"
   ]
  },
  {
   "cell_type": "code",
   "execution_count": null,
   "id": "67d00762",
   "metadata": {},
   "outputs": [],
   "source": []
  }
 ],
 "metadata": {
  "kernelspec": {
   "display_name": "Python 3 (ipykernel)",
   "language": "python",
   "name": "python3"
  },
  "language_info": {
   "codemirror_mode": {
    "name": "ipython",
    "version": 3
   },
   "file_extension": ".py",
   "mimetype": "text/x-python",
   "name": "python",
   "nbconvert_exporter": "python",
   "pygments_lexer": "ipython3",
   "version": "3.8.8"
  }
 },
 "nbformat": 4,
 "nbformat_minor": 5
}
